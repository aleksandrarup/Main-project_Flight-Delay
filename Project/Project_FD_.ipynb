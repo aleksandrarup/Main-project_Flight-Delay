{
 "cells": [
  {
   "cell_type": "markdown",
   "id": "d7fa6e6c",
   "metadata": {
    "toc": true
   },
   "source": [
    "<h1>Проект Flight Delay<span class=\"tocSkip\"></span></h1>\n",
    "<div class=\"toc\"><ul class=\"toc-item\"><li><span><a href=\"#Подготовительные-работы\" data-toc-modified-id=\"Подготовительные-работы-1\"><span class=\"toc-item-num\">1&nbsp;&nbsp;</span>Подготовительные работы</a></span></li><li><span><a href=\"#Найдем-аэропорт-с-минимальной-задержкой-вылета\" data-toc-modified-id=\"Найдем-аэропорт-с-минимальной-задержкой-вылета-2\"><span class=\"toc-item-num\">2&nbsp;&nbsp;</span>Найдем аэропорт с минимальной задержкой вылета</a></span></li><li><span><a href=\"#Найдем-самую-пунктуальную-авиакомпанию-на-прилет-в-LA-International-Airport\" data-toc-modified-id=\"Найдем-самую-пунктуальную-авиакомпанию-на-прилет-в-LA-International-Airport-3\"><span class=\"toc-item-num\">3&nbsp;&nbsp;</span>Найдем самую пунктуальную авиакомпанию на прилет в LA International Airport</a></span></li><li><span><a href=\"#Найдем-аэропорт,-где-самолёты-проводят-больше-всего-времени-на-рулении-(среднее-значение)\" data-toc-modified-id=\"Найдем-аэропорт,-где-самолёты-проводят-больше-всего-времени-на-рулении-(среднее-значение)-4\"><span class=\"toc-item-num\">4&nbsp;&nbsp;</span>Найдем аэропорт, где самолёты проводят больше всего времени на рулении (среднее значение)</a></span></li><li><span><a href=\"#Построим-модель-которая-будет-выбирать-топ-3-аэропорта-прилета(вероятность-опоздания-минимальная-–-RMSE-метрика),-в-зависимости-от-аэропорта-вылета\" data-toc-modified-id=\"Построим-модель-которая-будет-выбирать-топ-3-аэропорта-прилета(вероятность-опоздания-минимальная-–-RMSE-метрика),-в-зависимости-от-аэропорта-вылета-5\"><span class=\"toc-item-num\">5&nbsp;&nbsp;</span>Построим модель которая будет выбирать топ 3 аэропорта прилета(вероятность опоздания минимальная – RMSE метрика), в зависимости от аэропорта вылета</a></span></li></ul></div>"
   ]
  },
  {
   "cell_type": "markdown",
   "id": "465fc54c",
   "metadata": {},
   "source": [
    "# Подготовительные работы"
   ]
  },
  {
   "cell_type": "code",
   "execution_count": 2,
   "id": "40fb2aa8",
   "metadata": {},
   "outputs": [],
   "source": [
    "import pandas as pd\n",
    "from sklearn.model_selection import train_test_split\n",
    "from sklearn.linear_model import LinearRegression\n",
    "from sklearn.metrics import mean_squared_error\n",
    "import numpy as np\n",
    "import matplotlib.pyplot as plt\n",
    "from sklearn.preprocessing import OneHotEncoder\n",
    "from sklearn.compose import ColumnTransformer\n",
    "from sklearn.pipeline import Pipeline\n",
    "from sklearn.preprocessing import LabelEncoder\n",
    "import joblib\n",
    "from sklearn.feature_extraction.text import TfidfVectorizer\n",
    "from sklearn.ensemble import GradientBoostingRegressor"
   ]
  },
  {
   "cell_type": "code",
   "execution_count": 3,
   "id": "8fefab72",
   "metadata": {},
   "outputs": [],
   "source": [
    "resulting_data = joblib.load('resulting_data.pkl')"
   ]
  },
  {
   "cell_type": "code",
   "execution_count": 4,
   "id": "4dd76f81",
   "metadata": {},
   "outputs": [
    {
     "data": {
      "text/html": [
       "<div>\n",
       "<style scoped>\n",
       "    .dataframe tbody tr th:only-of-type {\n",
       "        vertical-align: middle;\n",
       "    }\n",
       "\n",
       "    .dataframe tbody tr th {\n",
       "        vertical-align: top;\n",
       "    }\n",
       "\n",
       "    .dataframe thead th {\n",
       "        text-align: right;\n",
       "    }\n",
       "</style>\n",
       "<table border=\"1\" class=\"dataframe\">\n",
       "  <thead>\n",
       "    <tr style=\"text-align: right;\">\n",
       "      <th></th>\n",
       "      <th>YEAR</th>\n",
       "      <th>MONTH</th>\n",
       "      <th>DAY</th>\n",
       "      <th>FLIGHT_NUMBER</th>\n",
       "      <th>ORIGIN_AIRPORT</th>\n",
       "      <th>DESTINATION_AIRPORT</th>\n",
       "      <th>DEPARTURE_DELAY</th>\n",
       "      <th>TAXI_OUT</th>\n",
       "      <th>TAXI_IN</th>\n",
       "      <th>ARRIVAL_DELAY</th>\n",
       "      <th>AIRLINE</th>\n",
       "      <th>O_AIRPORT</th>\n",
       "      <th>O_CITY</th>\n",
       "      <th>dDATE</th>\n",
       "      <th>D_AIRPORT</th>\n",
       "      <th>D_CITY</th>\n",
       "    </tr>\n",
       "  </thead>\n",
       "  <tbody>\n",
       "    <tr>\n",
       "      <th>15</th>\n",
       "      <td>2015</td>\n",
       "      <td>1</td>\n",
       "      <td>2</td>\n",
       "      <td>108</td>\n",
       "      <td>ANC</td>\n",
       "      <td>SEA</td>\n",
       "      <td>0.0</td>\n",
       "      <td>19.0</td>\n",
       "      <td>4.0</td>\n",
       "      <td>-15.0</td>\n",
       "      <td>Alaska Airlines Inc.</td>\n",
       "      <td>Ted Stevens Anchorage International Airport</td>\n",
       "      <td>Anchorage</td>\n",
       "      <td>2015-01-02</td>\n",
       "      <td>Seattle-Tacoma International Airport</td>\n",
       "      <td>Seattle</td>\n",
       "    </tr>\n",
       "    <tr>\n",
       "      <th>23</th>\n",
       "      <td>2015</td>\n",
       "      <td>1</td>\n",
       "      <td>2</td>\n",
       "      <td>120</td>\n",
       "      <td>ANC</td>\n",
       "      <td>SEA</td>\n",
       "      <td>7.0</td>\n",
       "      <td>9.0</td>\n",
       "      <td>11.0</td>\n",
       "      <td>-5.0</td>\n",
       "      <td>Alaska Airlines Inc.</td>\n",
       "      <td>Ted Stevens Anchorage International Airport</td>\n",
       "      <td>Anchorage</td>\n",
       "      <td>2015-01-02</td>\n",
       "      <td>Seattle-Tacoma International Airport</td>\n",
       "      <td>Seattle</td>\n",
       "    </tr>\n",
       "    <tr>\n",
       "      <th>24</th>\n",
       "      <td>2015</td>\n",
       "      <td>1</td>\n",
       "      <td>2</td>\n",
       "      <td>92</td>\n",
       "      <td>ANC</td>\n",
       "      <td>SEA</td>\n",
       "      <td>9.0</td>\n",
       "      <td>10.0</td>\n",
       "      <td>8.0</td>\n",
       "      <td>-11.0</td>\n",
       "      <td>Alaska Airlines Inc.</td>\n",
       "      <td>Ted Stevens Anchorage International Airport</td>\n",
       "      <td>Anchorage</td>\n",
       "      <td>2015-01-02</td>\n",
       "      <td>Seattle-Tacoma International Airport</td>\n",
       "      <td>Seattle</td>\n",
       "    </tr>\n",
       "  </tbody>\n",
       "</table>\n",
       "</div>"
      ],
      "text/plain": [
       "    YEAR  MONTH  DAY  FLIGHT_NUMBER ORIGIN_AIRPORT DESTINATION_AIRPORT  \\\n",
       "15  2015      1    2            108            ANC                 SEA   \n",
       "23  2015      1    2            120            ANC                 SEA   \n",
       "24  2015      1    2             92            ANC                 SEA   \n",
       "\n",
       "    DEPARTURE_DELAY  TAXI_OUT  TAXI_IN  ARRIVAL_DELAY               AIRLINE  \\\n",
       "15              0.0      19.0      4.0          -15.0  Alaska Airlines Inc.   \n",
       "23              7.0       9.0     11.0           -5.0  Alaska Airlines Inc.   \n",
       "24              9.0      10.0      8.0          -11.0  Alaska Airlines Inc.   \n",
       "\n",
       "                                      O_AIRPORT     O_CITY      dDATE  \\\n",
       "15  Ted Stevens Anchorage International Airport  Anchorage 2015-01-02   \n",
       "23  Ted Stevens Anchorage International Airport  Anchorage 2015-01-02   \n",
       "24  Ted Stevens Anchorage International Airport  Anchorage 2015-01-02   \n",
       "\n",
       "                               D_AIRPORT   D_CITY  \n",
       "15  Seattle-Tacoma International Airport  Seattle  \n",
       "23  Seattle-Tacoma International Airport  Seattle  \n",
       "24  Seattle-Tacoma International Airport  Seattle  "
      ]
     },
     "execution_count": 4,
     "metadata": {},
     "output_type": "execute_result"
    }
   ],
   "source": [
    "resulting_data.head(3)"
   ]
  },
  {
   "cell_type": "code",
   "execution_count": 5,
   "id": "947c8c3d",
   "metadata": {},
   "outputs": [
    {
     "data": {
      "text/plain": [
       "Index(['YEAR', 'MONTH', 'DAY', 'FLIGHT_NUMBER', 'ORIGIN_AIRPORT',\n",
       "       'DESTINATION_AIRPORT', 'DEPARTURE_DELAY', 'TAXI_OUT', 'TAXI_IN',\n",
       "       'ARRIVAL_DELAY', 'AIRLINE', 'O_AIRPORT', 'O_CITY', 'dDATE', 'D_AIRPORT',\n",
       "       'D_CITY'],\n",
       "      dtype='object')"
      ]
     },
     "execution_count": 5,
     "metadata": {},
     "output_type": "execute_result"
    }
   ],
   "source": [
    "resulting_data.columns"
   ]
  },
  {
   "cell_type": "markdown",
   "id": "4501f7b7",
   "metadata": {},
   "source": [
    "_________________________________________________________"
   ]
  },
  {
   "cell_type": "markdown",
   "id": "c0799adc",
   "metadata": {},
   "source": [
    "# Найдем аэропорт с минимальной задержкой вылета "
   ]
  },
  {
   "cell_type": "code",
   "execution_count": 6,
   "id": "b04d85d6",
   "metadata": {},
   "outputs": [],
   "source": [
    "# Сделаем расчет средней задержки по аэропортам\n",
    "average_delay_by_airport = (resulting_data.groupby('O_AIRPORT')['DEPARTURE_DELAY'].mean().reset_index())"
   ]
  },
  {
   "cell_type": "code",
   "execution_count": 7,
   "id": "c48d14e4",
   "metadata": {},
   "outputs": [],
   "source": [
    "# Найдем аэропорт с минимальной средней задержкой\n",
    "min_delay_info = average_delay_by_airport.loc[average_delay_by_airport['DEPARTURE_DELAY'].idxmin()]"
   ]
  },
  {
   "cell_type": "code",
   "execution_count": 8,
   "id": "025d3762",
   "metadata": {},
   "outputs": [],
   "source": [
    "min_delay_airport = min_delay_info['O_AIRPORT']"
   ]
  },
  {
   "cell_type": "code",
   "execution_count": 9,
   "id": "f9949789",
   "metadata": {},
   "outputs": [],
   "source": [
    "min_delay_value = min_delay_info['DEPARTURE_DELAY']"
   ]
  },
  {
   "cell_type": "code",
   "execution_count": 10,
   "id": "913b8c51",
   "metadata": {},
   "outputs": [],
   "source": [
    "min_delay_city = resulting_data.loc[resulting_data['O_AIRPORT'] == min_delay_airport, 'O_CITY'].values[0]"
   ]
  },
  {
   "cell_type": "code",
   "execution_count": 11,
   "id": "3582a23e",
   "metadata": {},
   "outputs": [
    {
     "name": "stdout",
     "output_type": "stream",
     "text": [
      "Аэропорт с минимальной средней задержкой вылета: Lewiston-Nez Perce County Airport, который находится в Lewiston.\n",
      "Средняя задержка вылета: 8.46 минут.\n"
     ]
    }
   ],
   "source": [
    "print(f'Аэропорт с минимальной средней задержкой вылета: {min_delay_airport}, который находится в {min_delay_city}.')\n",
    "print(f'Средняя задержка вылета: {min_delay_value:.2f} минут.')"
   ]
  },
  {
   "cell_type": "code",
   "execution_count": 12,
   "id": "88df0304",
   "metadata": {},
   "outputs": [],
   "source": [
    "# Построим временной ряд по метрике «Средняя задержка по месяцам» для аэропорта с минимальной задержкой вылета:\n",
    "monthly_delay = (resulting_data[resulting_data['O_AIRPORT'] == min_delay_airport]\n",
    "                 .groupby(resulting_data['dDATE'].dt.to_period('M'))['DEPARTURE_DELAY'].mean().reset_index())\n",
    "\n",
    "monthly_delay['dDATE'] = monthly_delay['dDATE'].dt.to_timestamp()"
   ]
  },
  {
   "cell_type": "code",
   "execution_count": 13,
   "id": "0411312e",
   "metadata": {},
   "outputs": [
    {
     "data": {
      "image/png": "[encoded data removed]",
      "text/plain": [
       "<Figure size 576x288 with 1 Axes>"
      ]
     },
     "metadata": {
      "needs_background": "light"
     },
     "output_type": "display_data"
    }
   ],
   "source": [
    "# Визуализируем среднюю задержку по месяцам\n",
    "plt.figure(figsize=(8, 4))\n",
    "plt.plot(monthly_delay['dDATE'], monthly_delay['DEPARTURE_DELAY'], marker='o')\n",
    "plt.title(f'Средняя задержка вылета для аэропорта {min_delay_airport} по месяцам')\n",
    "plt.xlabel('Дата')\n",
    "plt.ylabel('Средняя задержка вылета (минуты)')\n",
    "plt.xticks(rotation=45)\n",
    "plt.grid()\n",
    "plt.show()"
   ]
  },
  {
   "cell_type": "markdown",
   "id": "96ed70a2",
   "metadata": {},
   "source": [
    "**Анализируя график, можно сделать вывод, что средняя задержка вылетов возрастает в зимние месяцы, что может быть связано с ухудшением погодных условий в это время года в г. Льюистон, штат Айдахо.**"
   ]
  },
  {
   "cell_type": "markdown",
   "id": "fcc0ce41",
   "metadata": {},
   "source": [
    "____________________________________________"
   ]
  },
  {
   "cell_type": "markdown",
   "id": "b3f10d1f",
   "metadata": {},
   "source": [
    "# Найдем самую пунктуальную авиакомпанию на прилет в LA International Airport"
   ]
  },
  {
   "cell_type": "code",
   "execution_count": 14,
   "id": "ddbc5955",
   "metadata": {},
   "outputs": [
    {
     "data": {
      "text/html": [
       "<div>\n",
       "<style scoped>\n",
       "    .dataframe tbody tr th:only-of-type {\n",
       "        vertical-align: middle;\n",
       "    }\n",
       "\n",
       "    .dataframe tbody tr th {\n",
       "        vertical-align: top;\n",
       "    }\n",
       "\n",
       "    .dataframe thead th {\n",
       "        text-align: right;\n",
       "    }\n",
       "</style>\n",
       "<table border=\"1\" class=\"dataframe\">\n",
       "  <thead>\n",
       "    <tr style=\"text-align: right;\">\n",
       "      <th></th>\n",
       "      <th>YEAR</th>\n",
       "      <th>MONTH</th>\n",
       "      <th>DAY</th>\n",
       "      <th>FLIGHT_NUMBER</th>\n",
       "      <th>ORIGIN_AIRPORT</th>\n",
       "      <th>DESTINATION_AIRPORT</th>\n",
       "      <th>DEPARTURE_DELAY</th>\n",
       "      <th>TAXI_OUT</th>\n",
       "      <th>TAXI_IN</th>\n",
       "      <th>ARRIVAL_DELAY</th>\n",
       "      <th>AIRLINE</th>\n",
       "      <th>O_AIRPORT</th>\n",
       "      <th>O_CITY</th>\n",
       "      <th>dDATE</th>\n",
       "      <th>D_AIRPORT</th>\n",
       "      <th>D_CITY</th>\n",
       "    </tr>\n",
       "  </thead>\n",
       "  <tbody>\n",
       "    <tr>\n",
       "      <th>797154</th>\n",
       "      <td>2015</td>\n",
       "      <td>1</td>\n",
       "      <td>4</td>\n",
       "      <td>150</td>\n",
       "      <td>ANC</td>\n",
       "      <td>LAX</td>\n",
       "      <td>134.0</td>\n",
       "      <td>9.0</td>\n",
       "      <td>16.0</td>\n",
       "      <td>111.0</td>\n",
       "      <td>Alaska Airlines Inc.</td>\n",
       "      <td>Ted Stevens Anchorage International Airport</td>\n",
       "      <td>Anchorage</td>\n",
       "      <td>2015-01-04</td>\n",
       "      <td>Los Angeles International Airport</td>\n",
       "      <td>Los Angeles</td>\n",
       "    </tr>\n",
       "    <tr>\n",
       "      <th>797155</th>\n",
       "      <td>2015</td>\n",
       "      <td>1</td>\n",
       "      <td>8</td>\n",
       "      <td>150</td>\n",
       "      <td>ANC</td>\n",
       "      <td>LAX</td>\n",
       "      <td>-4.0</td>\n",
       "      <td>19.0</td>\n",
       "      <td>22.0</td>\n",
       "      <td>25.0</td>\n",
       "      <td>Alaska Airlines Inc.</td>\n",
       "      <td>Ted Stevens Anchorage International Airport</td>\n",
       "      <td>Anchorage</td>\n",
       "      <td>2015-01-08</td>\n",
       "      <td>Los Angeles International Airport</td>\n",
       "      <td>Los Angeles</td>\n",
       "    </tr>\n",
       "    <tr>\n",
       "      <th>797158</th>\n",
       "      <td>2015</td>\n",
       "      <td>1</td>\n",
       "      <td>11</td>\n",
       "      <td>150</td>\n",
       "      <td>ANC</td>\n",
       "      <td>LAX</td>\n",
       "      <td>1.0</td>\n",
       "      <td>19.0</td>\n",
       "      <td>6.0</td>\n",
       "      <td>-27.0</td>\n",
       "      <td>Alaska Airlines Inc.</td>\n",
       "      <td>Ted Stevens Anchorage International Airport</td>\n",
       "      <td>Anchorage</td>\n",
       "      <td>2015-01-11</td>\n",
       "      <td>Los Angeles International Airport</td>\n",
       "      <td>Los Angeles</td>\n",
       "    </tr>\n",
       "  </tbody>\n",
       "</table>\n",
       "</div>"
      ],
      "text/plain": [
       "        YEAR  MONTH  DAY  FLIGHT_NUMBER ORIGIN_AIRPORT DESTINATION_AIRPORT  \\\n",
       "797154  2015      1    4            150            ANC                 LAX   \n",
       "797155  2015      1    8            150            ANC                 LAX   \n",
       "797158  2015      1   11            150            ANC                 LAX   \n",
       "\n",
       "        DEPARTURE_DELAY  TAXI_OUT  TAXI_IN  ARRIVAL_DELAY  \\\n",
       "797154            134.0       9.0     16.0          111.0   \n",
       "797155             -4.0      19.0     22.0           25.0   \n",
       "797158              1.0      19.0      6.0          -27.0   \n",
       "\n",
       "                     AIRLINE                                    O_AIRPORT  \\\n",
       "797154  Alaska Airlines Inc.  Ted Stevens Anchorage International Airport   \n",
       "797155  Alaska Airlines Inc.  Ted Stevens Anchorage International Airport   \n",
       "797158  Alaska Airlines Inc.  Ted Stevens Anchorage International Airport   \n",
       "\n",
       "           O_CITY      dDATE                          D_AIRPORT       D_CITY  \n",
       "797154  Anchorage 2015-01-04  Los Angeles International Airport  Los Angeles  \n",
       "797155  Anchorage 2015-01-08  Los Angeles International Airport  Los Angeles  \n",
       "797158  Anchorage 2015-01-11  Los Angeles International Airport  Los Angeles  "
      ]
     },
     "execution_count": 14,
     "metadata": {},
     "output_type": "execute_result"
    }
   ],
   "source": [
    "# Фильтруем рейсы, прилетающие в Лос-Анджелес\n",
    "la_flights = resulting_data[resulting_data['DESTINATION_AIRPORT'] == 'LAX']\n",
    "la_flights.head(3)"
   ]
  },
  {
   "cell_type": "code",
   "execution_count": 15,
   "id": "865f6fcb",
   "metadata": {},
   "outputs": [
    {
     "data": {
      "text/html": [
       "<div>\n",
       "<style scoped>\n",
       "    .dataframe tbody tr th:only-of-type {\n",
       "        vertical-align: middle;\n",
       "    }\n",
       "\n",
       "    .dataframe tbody tr th {\n",
       "        vertical-align: top;\n",
       "    }\n",
       "\n",
       "    .dataframe thead th {\n",
       "        text-align: right;\n",
       "    }\n",
       "</style>\n",
       "<table border=\"1\" class=\"dataframe\">\n",
       "  <thead>\n",
       "    <tr style=\"text-align: right;\">\n",
       "      <th></th>\n",
       "      <th>AIRLINE</th>\n",
       "      <th>ARRIVAL_DELAY</th>\n",
       "    </tr>\n",
       "  </thead>\n",
       "  <tbody>\n",
       "    <tr>\n",
       "      <th>0</th>\n",
       "      <td>Alaska Airlines Inc.</td>\n",
       "      <td>14.993110</td>\n",
       "    </tr>\n",
       "    <tr>\n",
       "      <th>1</th>\n",
       "      <td>American Airlines Inc.</td>\n",
       "      <td>20.698266</td>\n",
       "    </tr>\n",
       "    <tr>\n",
       "      <th>2</th>\n",
       "      <td>American Eagle Airlines Inc.</td>\n",
       "      <td>44.712766</td>\n",
       "    </tr>\n",
       "  </tbody>\n",
       "</table>\n",
       "</div>"
      ],
      "text/plain": [
       "                        AIRLINE  ARRIVAL_DELAY\n",
       "0          Alaska Airlines Inc.      14.993110\n",
       "1        American Airlines Inc.      20.698266\n",
       "2  American Eagle Airlines Inc.      44.712766"
      ]
     },
     "execution_count": 15,
     "metadata": {},
     "output_type": "execute_result"
    }
   ],
   "source": [
    "# Группируем по авиакомпаниям и находим среднюю задержку прилета\n",
    "arrival_delay = la_flights.groupby('AIRLINE')['ARRIVAL_DELAY'].mean().reset_index()\n",
    "arrival_delay.head(3)"
   ]
  },
  {
   "cell_type": "code",
   "execution_count": 16,
   "id": "feb65231",
   "metadata": {},
   "outputs": [],
   "source": [
    "# Находим самую пунктуальную авиакомпанию\n",
    "most_punctual_airline = arrival_delay.loc[arrival_delay['ARRIVAL_DELAY'].idxmin()]"
   ]
  },
  {
   "cell_type": "code",
   "execution_count": 17,
   "id": "e3c5fa73",
   "metadata": {},
   "outputs": [
    {
     "name": "stdout",
     "output_type": "stream",
     "text": [
      "Самая пунктуальная авиакомпания, прилетающая в Лос-Анджелес - Hawaiian Airlines Inc.\n",
      "Средняя задержка рейсов авиакомпании составляет 8.25 минут.\n"
     ]
    }
   ],
   "source": [
    "print(f\"Самая пунктуальная авиакомпания, прилетающая в Лос-Анджелес - {most_punctual_airline['AIRLINE']}\")\n",
    "print(f\"Средняя задержка рейсов авиакомпании составляет {most_punctual_airline['ARRIVAL_DELAY']:.2f} минут.\")"
   ]
  },
  {
   "cell_type": "markdown",
   "id": "4051f2a1",
   "metadata": {},
   "source": [
    "**Посмотрим процент рейсов самой пунктуальной авиакомпании, прибывших вовремя**"
   ]
  },
  {
   "cell_type": "code",
   "execution_count": 18,
   "id": "f30c268f",
   "metadata": {},
   "outputs": [],
   "source": [
    "# Фильтруем рейсы самой пунктуальной авиакомпании\n",
    "punctual_airline_flights = la_flights[la_flights['AIRLINE'] == most_punctual_airline['AIRLINE']]"
   ]
  },
  {
   "cell_type": "code",
   "execution_count": 19,
   "id": "cb282f27",
   "metadata": {},
   "outputs": [
    {
     "data": {
      "text/plain": [
       "Index(['YEAR', 'MONTH', 'DAY', 'FLIGHT_NUMBER', 'ORIGIN_AIRPORT',\n",
       "       'DESTINATION_AIRPORT', 'DEPARTURE_DELAY', 'TAXI_OUT', 'TAXI_IN',\n",
       "       'ARRIVAL_DELAY', 'AIRLINE', 'O_AIRPORT', 'O_CITY', 'dDATE', 'D_AIRPORT',\n",
       "       'D_CITY'],\n",
       "      dtype='object')"
      ]
     },
     "execution_count": 19,
     "metadata": {},
     "output_type": "execute_result"
    }
   ],
   "source": [
    "punctual_airline_flights.columns"
   ]
  },
  {
   "cell_type": "code",
   "execution_count": 20,
   "id": "c6cfa9ca",
   "metadata": {},
   "outputs": [
    {
     "name": "stderr",
     "output_type": "stream",
     "text": [
      "C:\\Users\\acer\\AppData\\Local\\Temp\\ipykernel_10152\\430319726.py:2: SettingWithCopyWarning: \n",
      "A value is trying to be set on a copy of a slice from a DataFrame.\n",
      "Try using .loc[row_indexer,col_indexer] = value instead\n",
      "\n",
      "See the caveats in the documentation: https://pandas.pydata.org/pandas-docs/stable/user_guide/indexing.html#returning-a-view-versus-a-copy\n",
      "  punctual_airline_flights['ON_TIME'] = punctual_airline_flights['ARRIVAL_DELAY'] < 15\n"
     ]
    }
   ],
   "source": [
    "# Добавляем столбец для определения пунктуальности (менее 15 минут задержки)\n",
    "punctual_airline_flights['ON_TIME'] = punctual_airline_flights['ARRIVAL_DELAY'] < 15"
   ]
  },
  {
   "cell_type": "code",
   "execution_count": 21,
   "id": "212437fe",
   "metadata": {},
   "outputs": [],
   "source": [
    "# Группируем по месяцам и считаем количество пунктуальных рейсов и общее количество рейсов\n",
    "monthly_stats = punctual_airline_flights.groupby(['YEAR', 'MONTH']).agg(TOTAL_FLIGHTS=('FLIGHT_NUMBER', 'count'), ON_TIME_FLIGHTS=('ON_TIME', 'sum')).reset_index()"
   ]
  },
  {
   "cell_type": "code",
   "execution_count": 22,
   "id": "f7f2f4ee",
   "metadata": {},
   "outputs": [],
   "source": [
    "# Процент пунктуальных рейсов\n",
    "monthly_stats['PERCENT_ON_TIME'] = (monthly_stats['ON_TIME_FLIGHTS'] / monthly_stats['TOTAL_FLIGHTS']) * 100"
   ]
  },
  {
   "cell_type": "code",
   "execution_count": 23,
   "id": "d5e95889",
   "metadata": {},
   "outputs": [
    {
     "data": {
      "text/html": [
       "<div>\n",
       "<style scoped>\n",
       "    .dataframe tbody tr th:only-of-type {\n",
       "        vertical-align: middle;\n",
       "    }\n",
       "\n",
       "    .dataframe tbody tr th {\n",
       "        vertical-align: top;\n",
       "    }\n",
       "\n",
       "    .dataframe thead th {\n",
       "        text-align: right;\n",
       "    }\n",
       "</style>\n",
       "<table border=\"1\" class=\"dataframe\">\n",
       "  <thead>\n",
       "    <tr style=\"text-align: right;\">\n",
       "      <th></th>\n",
       "      <th>YEAR</th>\n",
       "      <th>MONTH</th>\n",
       "      <th>TOTAL_FLIGHTS</th>\n",
       "      <th>ON_TIME_FLIGHTS</th>\n",
       "      <th>PERCENT_ON_TIME</th>\n",
       "    </tr>\n",
       "  </thead>\n",
       "  <tbody>\n",
       "    <tr>\n",
       "      <th>0</th>\n",
       "      <td>2015</td>\n",
       "      <td>1</td>\n",
       "      <td>62</td>\n",
       "      <td>49</td>\n",
       "      <td>79.032258</td>\n",
       "    </tr>\n",
       "    <tr>\n",
       "      <th>1</th>\n",
       "      <td>2015</td>\n",
       "      <td>2</td>\n",
       "      <td>65</td>\n",
       "      <td>51</td>\n",
       "      <td>78.461538</td>\n",
       "    </tr>\n",
       "    <tr>\n",
       "      <th>2</th>\n",
       "      <td>2015</td>\n",
       "      <td>3</td>\n",
       "      <td>73</td>\n",
       "      <td>54</td>\n",
       "      <td>73.972603</td>\n",
       "    </tr>\n",
       "    <tr>\n",
       "      <th>3</th>\n",
       "      <td>2015</td>\n",
       "      <td>4</td>\n",
       "      <td>54</td>\n",
       "      <td>48</td>\n",
       "      <td>88.888889</td>\n",
       "    </tr>\n",
       "    <tr>\n",
       "      <th>4</th>\n",
       "      <td>2015</td>\n",
       "      <td>5</td>\n",
       "      <td>49</td>\n",
       "      <td>39</td>\n",
       "      <td>79.591837</td>\n",
       "    </tr>\n",
       "    <tr>\n",
       "      <th>5</th>\n",
       "      <td>2015</td>\n",
       "      <td>6</td>\n",
       "      <td>114</td>\n",
       "      <td>94</td>\n",
       "      <td>82.456140</td>\n",
       "    </tr>\n",
       "    <tr>\n",
       "      <th>6</th>\n",
       "      <td>2015</td>\n",
       "      <td>7</td>\n",
       "      <td>82</td>\n",
       "      <td>68</td>\n",
       "      <td>82.926829</td>\n",
       "    </tr>\n",
       "    <tr>\n",
       "      <th>7</th>\n",
       "      <td>2015</td>\n",
       "      <td>8</td>\n",
       "      <td>99</td>\n",
       "      <td>77</td>\n",
       "      <td>77.777778</td>\n",
       "    </tr>\n",
       "    <tr>\n",
       "      <th>8</th>\n",
       "      <td>2015</td>\n",
       "      <td>9</td>\n",
       "      <td>65</td>\n",
       "      <td>54</td>\n",
       "      <td>83.076923</td>\n",
       "    </tr>\n",
       "    <tr>\n",
       "      <th>9</th>\n",
       "      <td>2015</td>\n",
       "      <td>11</td>\n",
       "      <td>42</td>\n",
       "      <td>34</td>\n",
       "      <td>80.952381</td>\n",
       "    </tr>\n",
       "    <tr>\n",
       "      <th>10</th>\n",
       "      <td>2015</td>\n",
       "      <td>12</td>\n",
       "      <td>70</td>\n",
       "      <td>51</td>\n",
       "      <td>72.857143</td>\n",
       "    </tr>\n",
       "  </tbody>\n",
       "</table>\n",
       "</div>"
      ],
      "text/plain": [
       "    YEAR  MONTH  TOTAL_FLIGHTS  ON_TIME_FLIGHTS  PERCENT_ON_TIME\n",
       "0   2015      1             62               49        79.032258\n",
       "1   2015      2             65               51        78.461538\n",
       "2   2015      3             73               54        73.972603\n",
       "3   2015      4             54               48        88.888889\n",
       "4   2015      5             49               39        79.591837\n",
       "5   2015      6            114               94        82.456140\n",
       "6   2015      7             82               68        82.926829\n",
       "7   2015      8             99               77        77.777778\n",
       "8   2015      9             65               54        83.076923\n",
       "9   2015     11             42               34        80.952381\n",
       "10  2015     12             70               51        72.857143"
      ]
     },
     "execution_count": 23,
     "metadata": {},
     "output_type": "execute_result"
    }
   ],
   "source": [
    "monthly_stats[['YEAR', 'MONTH', 'TOTAL_FLIGHTS', 'ON_TIME_FLIGHTS', 'PERCENT_ON_TIME']]"
   ]
  },
  {
   "cell_type": "code",
   "execution_count": 24,
   "id": "59f4dd3a",
   "metadata": {},
   "outputs": [
    {
     "data": {
      "image/png": "[encoded data removed]",
      "text/plain": [
       "<Figure size 720x360 with 1 Axes>"
      ]
     },
     "metadata": {
      "needs_background": "light"
     },
     "output_type": "display_data"
    }
   ],
   "source": [
    "# Визуализируем\n",
    "plt.figure(figsize=(10, 5))\n",
    "plt.plot(monthly_stats['YEAR'].astype(str) + '-' + monthly_stats['MONTH'].astype(str),\n",
    "         monthly_stats['PERCENT_ON_TIME'], marker='o', linestyle='-', color='b')\n",
    "plt.title(f'Процент рейсов авиакомпании {most_punctual_airline[\"AIRLINE\"]}, прибывших вовремя', fontsize=16)\n",
    "plt.xlabel('Дата (Год-Месяц)', fontsize=10)\n",
    "plt.ylabel('Процент рейсов, прибывших вовремя(%)', fontsize=10)\n",
    "plt.xticks(rotation=45)\n",
    "plt.grid()\n",
    "plt.tight_layout()\n",
    "plt.show()"
   ]
  },
  {
   "cell_type": "markdown",
   "id": "882cefea",
   "metadata": {},
   "source": [
    "**На графике можно увидеть, что наибольший процент рейсов авиакомпании Hawaiian Airlines Inc., прибывших вовремя в Лос-Анджелес, наблюдается в апреле. Это может быть связано с нормализацией погодных условий и снижением туристического потока, что, в свою очередь, уменьшает количество факторов, способствующих задержкам вылетов и прилетов.**"
   ]
  },
  {
   "cell_type": "markdown",
   "id": "aeb23522",
   "metadata": {},
   "source": [
    "__________________________________________________"
   ]
  },
  {
   "cell_type": "markdown",
   "id": "77a145a9",
   "metadata": {},
   "source": [
    "# Найдем аэропорт, где самолёты проводят больше всего времени на рулении (среднее значение)"
   ]
  },
  {
   "cell_type": "code",
   "execution_count": 25,
   "id": "3cfd2bc6",
   "metadata": {},
   "outputs": [],
   "source": [
    "# Рассчитаем среднее время руления для каждого аэропорта\n",
    "taxi_times = resulting_data.groupby('O_AIRPORT').agg({'TAXI_OUT': 'mean', 'TAXI_IN': 'mean'})"
   ]
  },
  {
   "cell_type": "code",
   "execution_count": 26,
   "id": "25d523f2",
   "metadata": {},
   "outputs": [],
   "source": [
    "# Рассчитаем общее среднее время руления\n",
    "taxi_times['AVERAGE_TAXI_TIME'] = taxi_times['TAXI_OUT'] + taxi_times['TAXI_IN']"
   ]
  },
  {
   "cell_type": "code",
   "execution_count": 27,
   "id": "08851a3d",
   "metadata": {},
   "outputs": [],
   "source": [
    "# Найдем аэропорт с максимальным средним временем руления\n",
    "most_taxi_time_airport = taxi_times['AVERAGE_TAXI_TIME'].idxmax()\n",
    "most_taxi_time_value = taxi_times['AVERAGE_TAXI_TIME'].max()"
   ]
  },
  {
   "cell_type": "code",
   "execution_count": 28,
   "id": "5f8656d4",
   "metadata": {},
   "outputs": [
    {
     "data": {
      "text/plain": [
       "('Sawyer International Airport', 43.463414634146346)"
      ]
     },
     "execution_count": 28,
     "metadata": {},
     "output_type": "execute_result"
    }
   ],
   "source": [
    "most_taxi_time_airport, most_taxi_time_value"
   ]
  },
  {
   "cell_type": "code",
   "execution_count": 29,
   "id": "7a76956f",
   "metadata": {},
   "outputs": [],
   "source": [
    "# Найдем город, где находится найденный аэропорт\n",
    "airport_info = resulting_data[resulting_data['O_AIRPORT'] == most_taxi_time_airport].iloc[0]"
   ]
  },
  {
   "cell_type": "code",
   "execution_count": 30,
   "id": "cc5f77f5",
   "metadata": {},
   "outputs": [
    {
     "data": {
      "text/plain": [
       "YEAR                   2015\n",
       "MONTH                     1\n",
       "DAY                       2\n",
       "FLIGHT_NUMBER          2905\n",
       "ORIGIN_AIRPORT          MQT\n",
       "DESTINATION_AIRPORT     ORD\n",
       "DEPARTURE_DELAY        -2.0\n",
       "TAXI_OUT               21.0\n",
       "TAXI_IN                60.0\n",
       "ARRIVAL_DELAY          36.0\n",
       "Name: 653151, dtype: object"
      ]
     },
     "execution_count": 30,
     "metadata": {},
     "output_type": "execute_result"
    }
   ],
   "source": [
    "airport_info.head(10)"
   ]
  },
  {
   "cell_type": "code",
   "execution_count": 31,
   "id": "c6b4c011",
   "metadata": {},
   "outputs": [
    {
     "name": "stdout",
     "output_type": "stream",
     "text": [
      "Аэропорт с максимальным средним временем руления: Sawyer International Airport. Среднее время на рулении: 43.46 минут.\n",
      "Находится в городе - Marquette.\n"
     ]
    }
   ],
   "source": [
    "print(f\"Аэропорт с максимальным средним временем руления: {most_taxi_time_airport}. \"f\"Среднее время на рулении: {most_taxi_time_value:.2f} минут.\")\n",
    "print(f\"Находится в городе - {airport_info['O_CITY']}.\")"
   ]
  },
  {
   "cell_type": "markdown",
   "id": "6ffa4f32",
   "metadata": {},
   "source": [
    "**Посмотрим среднее время руления по месяцам**"
   ]
  },
  {
   "cell_type": "code",
   "execution_count": 32,
   "id": "aa3862e4",
   "metadata": {},
   "outputs": [],
   "source": [
    "resulting_data['DEPARTURE_DATE'] = pd.to_datetime(resulting_data['dDATE'])"
   ]
  },
  {
   "cell_type": "code",
   "execution_count": 33,
   "id": "790d520f",
   "metadata": {},
   "outputs": [],
   "source": [
    "monthly_taxi_times = resulting_data.groupby([resulting_data['DEPARTURE_DATE'].dt.to_period('M')]).agg({'TAXI_OUT': 'mean', 'TAXI_IN': 'mean'})"
   ]
  },
  {
   "cell_type": "code",
   "execution_count": 34,
   "id": "c025c1c4",
   "metadata": {},
   "outputs": [],
   "source": [
    "# Рассчитываем общее среднее время руления\n",
    "monthly_taxi_times['AVERAGE_TAXI_TIME'] = monthly_taxi_times['TAXI_OUT'] + monthly_taxi_times['TAXI_IN']"
   ]
  },
  {
   "cell_type": "code",
   "execution_count": 35,
   "id": "9ed2bc8b",
   "metadata": {},
   "outputs": [],
   "source": [
    "# Переименовываем индекс для удобства\n",
    "monthly_taxi_times.index = monthly_taxi_times.index.astype(str)"
   ]
  },
  {
   "cell_type": "code",
   "execution_count": 36,
   "id": "7b8bb14d",
   "metadata": {},
   "outputs": [
    {
     "data": {
      "text/html": [
       "<div>\n",
       "<style scoped>\n",
       "    .dataframe tbody tr th:only-of-type {\n",
       "        vertical-align: middle;\n",
       "    }\n",
       "\n",
       "    .dataframe tbody tr th {\n",
       "        vertical-align: top;\n",
       "    }\n",
       "\n",
       "    .dataframe thead th {\n",
       "        text-align: right;\n",
       "    }\n",
       "</style>\n",
       "<table border=\"1\" class=\"dataframe\">\n",
       "  <thead>\n",
       "    <tr style=\"text-align: right;\">\n",
       "      <th></th>\n",
       "      <th>AVERAGE_TAXI_TIME</th>\n",
       "    </tr>\n",
       "    <tr>\n",
       "      <th>DEPARTURE_DATE</th>\n",
       "      <th></th>\n",
       "    </tr>\n",
       "  </thead>\n",
       "  <tbody>\n",
       "    <tr>\n",
       "      <th>2015-01</th>\n",
       "      <td>26.430592</td>\n",
       "    </tr>\n",
       "    <tr>\n",
       "      <th>2015-02</th>\n",
       "      <td>27.046615</td>\n",
       "    </tr>\n",
       "    <tr>\n",
       "      <th>2015-03</th>\n",
       "      <td>25.203056</td>\n",
       "    </tr>\n",
       "    <tr>\n",
       "      <th>2015-04</th>\n",
       "      <td>24.864081</td>\n",
       "    </tr>\n",
       "    <tr>\n",
       "      <th>2015-05</th>\n",
       "      <td>24.990497</td>\n",
       "    </tr>\n",
       "  </tbody>\n",
       "</table>\n",
       "</div>"
      ],
      "text/plain": [
       "                AVERAGE_TAXI_TIME\n",
       "DEPARTURE_DATE                   \n",
       "2015-01                 26.430592\n",
       "2015-02                 27.046615\n",
       "2015-03                 25.203056\n",
       "2015-04                 24.864081\n",
       "2015-05                 24.990497"
      ]
     },
     "execution_count": 36,
     "metadata": {},
     "output_type": "execute_result"
    }
   ],
   "source": [
    "monthly_taxi_times[['AVERAGE_TAXI_TIME']].head()"
   ]
  },
  {
   "cell_type": "code",
   "execution_count": 37,
   "id": "f3b4ff7b",
   "metadata": {},
   "outputs": [
    {
     "data": {
      "image/png": "[encoded data removed]",
      "text/plain": [
       "<Figure size 576x288 with 1 Axes>"
      ]
     },
     "metadata": {
      "needs_background": "light"
     },
     "output_type": "display_data"
    }
   ],
   "source": [
    "# Строим график\n",
    "plt.figure(figsize=(8, 4))\n",
    "plt.plot(monthly_taxi_times.index, monthly_taxi_times['AVERAGE_TAXI_TIME'], marker='o')\n",
    "plt.title(f'Среднее время руления в аэропорту {most_taxi_time_airport} по месяцам', fontsize=14)\n",
    "plt.xlabel('Год, месяц')\n",
    "plt.ylabel('Среднее время руления (минуты)', fontsize=10)\n",
    "plt.xticks(rotation=45)\n",
    "plt.grid()\n",
    "plt.tight_layout()\n",
    "plt.show()"
   ]
  },
  {
   "cell_type": "markdown",
   "id": "e1a4104c",
   "metadata": {},
   "source": [
    "**Время руления в аэропорту увеличивается в холодное время года. С февраля по апрель наблюдается резкое сокращение времени руления, что может свидетельствовать о зависимости этого показателя от погодных условий. Дополнительно можно отметить, что холодные условия могут замедлять работу наземных служб. Это может быть связано с необходимостью обработки взлетно-посадочных полос и рулежных дорожек от снега и льда. Также в зимний период могут происходить изменения в расписании рейсов, что также влияет на время руления. Например, задержки из-за плохих погодных условий могут накапливаться, создавая дополнительные очереди на рулежке. К тому же пилоты и экипажи могут проявлять большую осторожность при рулении в сложных погодных условиях, что также может увеличивать общее время руления**"
   ]
  },
  {
   "cell_type": "markdown",
   "id": "a27b6ecc",
   "metadata": {},
   "source": [
    "_____________________________________________________"
   ]
  },
  {
   "cell_type": "markdown",
   "id": "d1ff9be0",
   "metadata": {},
   "source": [
    "# Построим модель которая будет выбирать топ 3 аэропорта прилета(вероятность опоздания минимальная – RMSE метрика), в зависимости от аэропорта вылета\n"
   ]
  },
  {
   "cell_type": "code",
   "execution_count": 38,
   "id": "65d2b9a4",
   "metadata": {},
   "outputs": [
    {
     "data": {
      "text/plain": [
       "Index(['YEAR', 'MONTH', 'DAY', 'FLIGHT_NUMBER', 'ORIGIN_AIRPORT',\n",
       "       'DESTINATION_AIRPORT', 'DEPARTURE_DELAY', 'TAXI_OUT', 'TAXI_IN',\n",
       "       'ARRIVAL_DELAY', 'AIRLINE', 'O_AIRPORT', 'O_CITY', 'dDATE', 'D_AIRPORT',\n",
       "       'D_CITY', 'DEPARTURE_DATE'],\n",
       "      dtype='object')"
      ]
     },
     "execution_count": 38,
     "metadata": {},
     "output_type": "execute_result"
    }
   ],
   "source": [
    "resulting_data.columns"
   ]
  },
  {
   "cell_type": "code",
   "execution_count": 39,
   "id": "bc1cb258",
   "metadata": {},
   "outputs": [],
   "source": [
    "# Кодируем категориальные переменные\n",
    "le_airport = LabelEncoder()\n",
    "resulting_data['ORIGIN_AIRPORT_LABEL'] = le_airport.fit_transform(resulting_data['ORIGIN_AIRPORT'])\n",
    "resulting_data['DESTINATION_AIRPORT_LABEL'] = le_airport.fit_transform(resulting_data['DESTINATION_AIRPORT'])"
   ]
  },
  {
   "cell_type": "code",
   "execution_count": 40,
   "id": "a0265d08",
   "metadata": {},
   "outputs": [],
   "source": [
    "# Выбираем нужные признаки и целевую переменную\n",
    "features = ['YEAR', 'MONTH', 'DAY', 'FLIGHT_NUMBER', 'ORIGIN_AIRPORT_LABEL', 'TAXI_OUT', 'TAXI_IN']\n",
    "target = 'ARRIVAL_DELAY'"
   ]
  },
  {
   "cell_type": "code",
   "execution_count": 41,
   "id": "34b619d3",
   "metadata": {},
   "outputs": [],
   "source": [
    "X_train, X_test, y_train, y_test = train_test_split(resulting_data[features], resulting_data[target], test_size=0.2, random_state=42)"
   ]
  },
  {
   "cell_type": "code",
   "execution_count": 42,
   "id": "6e37939d",
   "metadata": {},
   "outputs": [
    {
     "data": {
      "text/plain": [
       "GradientBoostingRegressor()"
      ]
     },
     "execution_count": 42,
     "metadata": {},
     "output_type": "execute_result"
    }
   ],
   "source": [
    "# Создаем и обучаем модель\n",
    "model = GradientBoostingRegressor()\n",
    "model.fit(X_train, y_train)\n"
   ]
  },
  {
   "cell_type": "code",
   "execution_count": 43,
   "id": "d23256fe",
   "metadata": {},
   "outputs": [],
   "source": [
    "# Предсказываем задержки на тестовой выборке\n",
    "y_pred = model.predict(X_test)"
   ]
  },
  {
   "cell_type": "code",
   "execution_count": 44,
   "id": "e95acc00",
   "metadata": {},
   "outputs": [
    {
     "name": "stdout",
     "output_type": "stream",
     "text": [
      "RMSE: 47.38600630925254\n"
     ]
    }
   ],
   "source": [
    "# Оцениваем модель\n",
    "rmse = np.sqrt(mean_squared_error(y_test, y_pred))\n",
    "print(f'RMSE: {rmse}')"
   ]
  },
  {
   "cell_type": "code",
   "execution_count": 45,
   "id": "0b63c1dd",
   "metadata": {},
   "outputs": [],
   "source": [
    "# Создаем функцию для получения топ-3 аэропортов прилета\n",
    "def get_top_airports(origin_airport):\n",
    "    # Фильтруем данные по выбранному аэропорту вылета\n",
    "    filtered_data = resulting_data[resulting_data['ORIGIN_AIRPORT_LABEL'] == origin_airport]\n",
    "    \n",
    "    # Кодируем аэропорты назначения\n",
    "    filtered_data['DESTINATION_AIRPORT_LABEL'] = le_airport.transform(filtered_data['DESTINATION_AIRPORT'])\n",
    "    \n",
    "    # Получаем признаки для предсказания\n",
    "    X_predict = filtered_data[features].copy()\n",
    "    X_predict['ORIGIN_AIRPORT_LABEL'] = origin_airport  # устанавливаем код аэропорта вылета\n",
    "    \n",
    "    # Предсказываем задержки\n",
    "    predicted_delays = model.predict(X_predict)\n",
    "    \n",
    "    # Добавляем предсказанные задержки в DataFrame\n",
    "    filtered_data['PREDICTED_DELAY'] = predicted_delays\n",
    "    \n",
    "    # Находим топ-3 аэропорта с минимальными предсказанными задержками\n",
    "    top_airports = filtered_data.groupby('DESTINATION_AIRPORT_LABEL')['PREDICTED_DELAY'].mean().nsmallest(3)\n",
    "    \n",
    "    # Возвращаем оригинальные названия аэропортов и средние задержки\n",
    "    return le_airport.inverse_transform(top_airports.index), top_airports.values"
   ]
  },
  {
   "cell_type": "code",
   "execution_count": 46,
   "id": "398adece",
   "metadata": {},
   "outputs": [
    {
     "name": "stderr",
     "output_type": "stream",
     "text": [
      "C:\\Users\\acer\\AppData\\Local\\Temp\\ipykernel_10152\\3479015066.py:7: SettingWithCopyWarning: \n",
      "A value is trying to be set on a copy of a slice from a DataFrame.\n",
      "Try using .loc[row_indexer,col_indexer] = value instead\n",
      "\n",
      "See the caveats in the documentation: https://pandas.pydata.org/pandas-docs/stable/user_guide/indexing.html#returning-a-view-versus-a-copy\n",
      "  filtered_data['DESTINATION_AIRPORT_LABEL'] = le_airport.transform(filtered_data['DESTINATION_AIRPORT'])\n",
      "C:\\Users\\acer\\AppData\\Local\\Temp\\ipykernel_10152\\3479015066.py:17: SettingWithCopyWarning: \n",
      "A value is trying to be set on a copy of a slice from a DataFrame.\n",
      "Try using .loc[row_indexer,col_indexer] = value instead\n",
      "\n",
      "See the caveats in the documentation: https://pandas.pydata.org/pandas-docs/stable/user_guide/indexing.html#returning-a-view-versus-a-copy\n",
      "  filtered_data['PREDICTED_DELAY'] = predicted_delays\n"
     ]
    }
   ],
   "source": [
    "origin_airport_code = le_airport.transform(['ANC'])[0] \n",
    "top_airports, delays = get_top_airports(origin_airport_code)"
   ]
  },
  {
   "cell_type": "code",
   "execution_count": 49,
   "id": "9b904b13",
   "metadata": {},
   "outputs": [
    {
     "name": "stdout",
     "output_type": "stream",
     "text": [
      "Аэропорт прилета: KOA, Опоздание возможно на 11.11 минут\n",
      "Аэропорт прилета: ADK, Опоздание возможно на 12.02 минут\n",
      "Аэропорт прилета: BET, Опоздание возможно на 12.30 минут\n"
     ]
    }
   ],
   "source": [
    "# Выводим результаты\n",
    "for airport, delay in zip(top_airports, delays):\n",
    "    print(f'Аэропорт прилета: {airport}, Опоздание возможно на {delay:.2f} минут')"
   ]
  },
  {
   "cell_type": "markdown",
   "id": "8ec308e1",
   "metadata": {},
   "source": [
    "**В случае вылета рейса из аэропорта Ted Stevens Anchorage International Airport (ANC) минимальное опоздание возможно в следующие аэропорты прилета:**\n",
    "- Kona International Airport at Keāhole (KOA), опоздание возможно на 11.11 минут, \n",
    "- Adak Airport (ADK), опоздание возможно на 12.02 минут,\n",
    "- Bethel Airport (BET), опоздание возможно на 12.30 минут."
   ]
  }
 ],
 "metadata": {
  "kernelspec": {
   "display_name": "Python 3 (ipykernel)",
   "language": "python",
   "name": "python3"
  },
  "language_info": {
   "codemirror_mode": {
    "name": "ipython",
    "version": 3
   },
   "file_extension": ".py",
   "mimetype": "text/x-python",
   "name": "python",
   "nbconvert_exporter": "python",
   "pygments_lexer": "ipython3",
   "version": "3.9.12"
  },
  "toc": {
   "base_numbering": 1,
   "nav_menu": {},
   "number_sections": true,
   "sideBar": true,
   "skip_h1_title": false,
   "title_cell": "Проект Flight Delay",
   "title_sidebar": "Оглавление",
   "toc_cell": true,
   "toc_position": {
    "height": "calc(100% - 180px)",
    "left": "10px",
    "top": "150px",
    "width": "165px"
   },
   "toc_section_display": true,
   "toc_window_display": true
  }
 },
 "nbformat": 4,
 "nbformat_minor": 5
}
